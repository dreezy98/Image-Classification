{
 "cells": [
  {
   "cell_type": "markdown",
   "metadata": {},
   "source": [
    "# IMPORT LIBRARIES"
   ]
  },
  {
   "cell_type": "code",
   "execution_count": 1,
   "metadata": {},
   "outputs": [],
   "source": [
    "from PIL import Image\n",
    "from random import random, randint, shuffle\n",
    "from math import sqrt\n",
    "from kNN import kNN\n",
    "from sklearn.metrics import confusion_matrix\n",
    "import os\n",
    "import glob\n",
    "import numpy as np\n",
    "import matplotlib.pyplot as plt"
   ]
  },
  {
   "cell_type": "markdown",
   "metadata": {},
   "source": [
    "# LOAD AND LABEL IMAGE FILES"
   ]
  },
  {
   "cell_type": "code",
   "execution_count": 16,
   "metadata": {},
   "outputs": [],
   "source": [
    "path_Cynthia = os.path.join('C:/Users/Blssm/Desktop/ML_Project/sorted_faces/Cynthia','*g')\n",
    "files_Cynthia = glob.glob(path_Cynthia)\n",
    "\n",
    "path_Jerry = os.path.join('C:/Users/Blssm/Desktop/ML_Project/sorted_faces/Jerry','*g')\n",
    "files_Jerry = glob.glob(path_Jerry)\n",
    "\n",
    "path_Marine = os.path.join('C:/Users/Blssm/Desktop/ML_Project/sorted_faces/Marine','*g')\n",
    "files_Marine = glob.glob(path_Marine)\n",
    "\n",
    "# Define the total number of loaded files for each class\n",
    "n_Cynthia = len(files_Cynthia)\n",
    "n_Jerry = len(files_Jerry)\n",
    "n_Marine = len(files_Marine)\n",
    "n_data = n_Cynthia + n_Jerry + n_Marine\n",
    "\n",
    "# Build the labeled data list\n",
    "data = []\n",
    "\n",
    "for f in files_Cynthia:\n",
    "    img = Image.open(f)\n",
    "    img = img.resize((500,500))\n",
    "    img = img.convert('L')\n",
    "    data.append([img,'Cynthia'])\n",
    "\n",
    "for f in files_Jerry:\n",
    "    img = Image.open(f)\n",
    "    img = img.resize((500,500))\n",
    "    img = img.convert('L')\n",
    "    data.append([img,'Jerry'])\n",
    "\n",
    "for f in files_Marine:\n",
    "    img = Image.open(f)\n",
    "    img = img.resize((500,500))\n",
    "    img = img.convert('L')\n",
    "    data.append([img,'Marine'])\n",
    "    \n",
    "shuffle(data,random)"
   ]
  },
  {
   "cell_type": "code",
   "execution_count": 17,
   "metadata": {},
   "outputs": [
    {
     "name": "stdout",
     "output_type": "stream",
     "text": [
      "Exemple of data :  [<PIL.Image.Image image mode=L size=500x500 at 0x292226B6188>, 'Jerry']\n"
     ]
    }
   ],
   "source": [
    "print('Exemple of data : ', data[0])"
   ]
  },
  {
   "cell_type": "markdown",
   "metadata": {},
   "source": [
    "# DISPLAY FEW EXAMPLES OF IMAGES"
   ]
  },
  {
   "cell_type": "markdown",
   "metadata": {},
   "source": [
    "# SEPARATE TRAINING AND TEST SETS FROM DATA"
   ]
  },
  {
   "cell_type": "code",
   "execution_count": 19,
   "metadata": {},
   "outputs": [],
   "source": [
    "p_train = 0.7 # percentage of data used for the training task\n",
    "n_train = int(p_train * n_data)\n",
    "n_test = n_data - n_train\n",
    "\n",
    "train_images = []\n",
    "train_labels = []\n",
    "\n",
    "for d in data[:n_train]:\n",
    "    train_images.append(d[0])\n",
    "    train_labels.append(d[1])\n",
    "     \n",
    "test_images = []\n",
    "test_labels = []\n",
    "        \n",
    "for d in data[n_train:]:\n",
    "    test_images.append(d[0])\n",
    "    test_labels.append(d[1])"
   ]
  },
  {
   "cell_type": "code",
   "execution_count": 20,
   "metadata": {},
   "outputs": [
    {
     "name": "stdout",
     "output_type": "stream",
     "text": [
      "[8, 9, 4]\n",
      "[14, 14, 18]\n"
     ]
    }
   ],
   "source": [
    "print([test_labels.count('Cynthia'), test_labels.count('Jerry'), test_labels.count('Marine')])\n",
    "print([train_labels.count('Cynthia'), train_labels.count('Jerry'), train_labels.count('Marine')])"
   ]
  },
  {
   "cell_type": "markdown",
   "metadata": {},
   "source": [
    "# FROM IMAGES TO MATRIXES..."
   ]
  },
  {
   "cell_type": "code",
   "execution_count": 21,
   "metadata": {},
   "outputs": [],
   "source": [
    "train_data = [np.array(img) for img in train_images]\n",
    "test_data = [np.array(img) for img in test_images]"
   ]
  },
  {
   "cell_type": "markdown",
   "metadata": {},
   "source": [
    "# TRAIN DATA PROCESSING : IMPCA METHOD"
   ]
  },
  {
   "cell_type": "code",
   "execution_count": 22,
   "metadata": {},
   "outputs": [],
   "source": [
    "A_mean = sum(A for A in train_data) / n_train\n",
    "\n",
    "Gt = sum((A-A_mean).T@(A-A_mean) for A in train_data) / n_train\n",
    "\n",
    "eigval,eigvect = np.linalg.eig(Gt)\n",
    "idx = eigval.argsort()[::-1]\n",
    "eigval = eigval[idx]\n",
    "eigvect = eigvect[:,idx]\n",
    "\n",
    "k = 7 # number of principal components retained\n",
    "PC = eigvect[:,0:k] \n",
    "\n",
    "temp1 = [A@PC for A in train_data]\n",
    "temp2 = [A.T for A in temp1]\n",
    "dim = temp2[0].shape\n",
    "new_train_data = [np.reshape(A, dim[0]*dim[1]) for A in temp2]"
   ]
  },
  {
   "cell_type": "code",
   "execution_count": 23,
   "metadata": {},
   "outputs": [
    {
     "data": {
      "text/plain": [
       "(46, 3500)"
      ]
     },
     "execution_count": 23,
     "metadata": {},
     "output_type": "execute_result"
    }
   ],
   "source": [
    "new_train_data = np.array(new_train_data)\n",
    "new_train_data.shape # (n_train , size_image * nb_PC)"
   ]
  },
  {
   "cell_type": "markdown",
   "metadata": {},
   "source": [
    "# TEST DATA PROCESSING : IMPCA METHOD"
   ]
  },
  {
   "cell_type": "code",
   "execution_count": 24,
   "metadata": {},
   "outputs": [],
   "source": [
    "temp1 = [A@PC for A in test_data]\n",
    "temp2 = [A.T for A in temp1]\n",
    "dim = temp2[0].shape\n",
    "new_test_data = [np.reshape(A, dim[0]*dim[1]) for A in temp2]"
   ]
  },
  {
   "cell_type": "code",
   "execution_count": 25,
   "metadata": {},
   "outputs": [
    {
     "data": {
      "text/plain": [
       "(21, 3500)"
      ]
     },
     "execution_count": 25,
     "metadata": {},
     "output_type": "execute_result"
    }
   ],
   "source": [
    "new_test_data = np.array(new_test_data)\n",
    "new_test_data.shape # (n_test , size_image * nb_PC)"
   ]
  },
  {
   "cell_type": "markdown",
   "metadata": {},
   "source": [
    "# PREDICTION : KNN METHOD"
   ]
  },
  {
   "cell_type": "code",
   "execution_count": 26,
   "metadata": {},
   "outputs": [],
   "source": [
    "def accuracy_for_any_k(k):\n",
    "    # Run kNN algorithm\n",
    "    predicted_labels = [''] * n_test\n",
    "\n",
    "    for i in range(n_test):\n",
    "        predicted_labels[i] = kNN(k, new_train_data, train_labels, new_test_data[i,:])\n",
    "\n",
    "    # Calculate accuracy\n",
    "    correct = 0\n",
    "\n",
    "    for i in range(n_test):\n",
    "        if predicted_labels[i] == test_labels[i]:\n",
    "            correct += 1\n",
    "\n",
    "    accuracy = correct/float(n_test)\n",
    "    return(accuracy)"
   ]
  },
  {
   "cell_type": "code",
   "execution_count": 27,
   "metadata": {},
   "outputs": [
    {
     "name": "stdout",
     "output_type": "stream",
     "text": [
      "Rule of thumb k :  6\n",
      "Rule of thumb accuracy :  0.8095238095238095\n"
     ]
    }
   ],
   "source": [
    "# Rule of thumb for initial guess\n",
    "k_thumb = int(sqrt(n_train))\n",
    "print('Rule of thumb k : ',k_thumb)\n",
    "print('Rule of thumb accuracy : ',accuracy_for_any_k(k_thumb))"
   ]
  },
  {
   "cell_type": "code",
   "execution_count": 28,
   "metadata": {},
   "outputs": [
    {
     "name": "stdout",
     "output_type": "stream",
     "text": [
      "Local maximum accuracy k :  8\n",
      "Local maximum accuracy :  0.8571428571428571\n"
     ]
    },
    {
     "data": {
      "text/plain": [
       "[<matplotlib.lines.Line2D at 0x29222ef1dc8>]"
      ]
     },
     "execution_count": 28,
     "metadata": {},
     "output_type": "execute_result"
    },
    {
     "data": {
      "image/png": "[encoded data removed]",
      "text/plain": [
       "<Figure size 432x288 with 1 Axes>"
      ]
     },
     "metadata": {
      "needs_background": "light"
     },
     "output_type": "display_data"
    }
   ],
   "source": [
    "# Identify a k of local maximum accuracy\n",
    "nb_neighbors = [k for k in range(1,41)] # upper limit should be above k_thumb AND below n_train \n",
    "accuracies = [accuracy_for_any_k(k) for k in nb_neighbors]\n",
    "\n",
    "k_max = accuracies.index(max(accuracies)) + 1\n",
    "\n",
    "print('Local maximum accuracy k : ',k_max)\n",
    "print('Local maximum accuracy : ',max(accuracies))\n",
    "plt.plot(nb_neighbors,accuracies)"
   ]
  },
  {
   "cell_type": "markdown",
   "metadata": {},
   "source": [
    "# CONFUSION MATRIX"
   ]
  },
  {
   "cell_type": "code",
   "execution_count": 29,
   "metadata": {},
   "outputs": [
    {
     "data": {
      "image/png": "[encoded data removed]",
      "text/plain": [
       "<Figure size 432x288 with 2 Axes>"
      ]
     },
     "metadata": {
      "needs_background": "light"
     },
     "output_type": "display_data"
    }
   ],
   "source": [
    "predicted_labels = [''] * n_test\n",
    "\n",
    "for i in range(n_test):\n",
    "    predicted_labels[i] = kNN(k_max, new_train_data, train_labels, new_test_data[i,:])\n",
    "\n",
    "labels = [\"Cynthia\", \"Jerry\", \"Marine\"]\n",
    "C = confusion_matrix(test_labels, predicted_labels, labels=labels)\n",
    "\n",
    "plt.figure()\n",
    "\n",
    "plt.imshow(C, interpolation='nearest', cmap=plt.cm.Blues)\n",
    "plt.title('Confusion matrix')\n",
    "tick_marks = np.arange(len(labels))\n",
    "plt.xticks(tick_marks, labels, rotation=45)\n",
    "plt.yticks(tick_marks, labels)\n",
    "plt.xlabel('Predicted label')\n",
    "plt.ylabel('True label')\n",
    "plt.colorbar()\n",
    "\n",
    "plt.show()"
   ]
  }
 ],
 "metadata": {
  "kernelspec": {
   "display_name": "Python 3",
   "language": "python",
   "name": "python3"
  },
  "language_info": {
   "codemirror_mode": {
    "name": "ipython",
    "version": 3
   },
   "file_extension": ".py",
   "mimetype": "text/x-python",
   "name": "python",
   "nbconvert_exporter": "python",
   "pygments_lexer": "ipython3",
   "version": "3.7.5"
  }
 },
 "nbformat": 4,
 "nbformat_minor": 2
}
